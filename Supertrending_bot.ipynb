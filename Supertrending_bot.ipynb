{
 "cells": [
  {
   "cell_type": "code",
   "execution_count": null,
   "id": "7b7b5c0a",
   "metadata": {},
   "outputs": [],
   "source": [
    "from telegram_bot_manager import TelegramBotManager"
   ]
  },
  {
   "cell_type": "code",
   "execution_count": null,
   "id": "d33c7005",
   "metadata": {},
   "outputs": [],
   "source": [
    "tbm = TelegramBotManager()\n",
    "tbm.start_polling()"
   ]
  }
 ],
 "metadata": {
  "kernelspec": {
   "display_name": "swingaroo",
   "language": "python",
   "name": "swingaroo"
  },
  "language_info": {
   "codemirror_mode": {
    "name": "ipython",
    "version": 3
   },
   "file_extension": ".py",
   "mimetype": "text/x-python",
   "name": "python",
   "nbconvert_exporter": "python",
   "pygments_lexer": "ipython3",
   "version": "3.8.8"
  }
 },
 "nbformat": 4,
 "nbformat_minor": 5
}
