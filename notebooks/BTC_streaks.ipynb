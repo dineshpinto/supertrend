{
 "cells": [
  {
   "cell_type": "code",
   "execution_count": 1,
   "id": "round-tobacco",
   "metadata": {},
   "outputs": [],
   "source": [
    "import os\n",
    "import sys\n",
    "import itertools\n",
    "\n",
    "import pandas as pd\n",
    "import more_itertools as mit\n",
    "sys.path.insert(1, os.path.join(sys.path[0], '..'))\n",
    "\n",
    "from ftx_client import FtxClient\n",
    "\n",
    "from config import API_KEY, API_SECRET"
   ]
  },
  {
   "cell_type": "code",
   "execution_count": 2,
   "id": "dirty-protein",
   "metadata": {},
   "outputs": [],
   "source": [
    "ftx = FtxClient(api_key=API_KEY, api_secret=API_SECRET)"
   ]
  },
  {
   "cell_type": "code",
   "execution_count": 3,
   "id": "desirable-passport",
   "metadata": {},
   "outputs": [],
   "source": [
    "df = ftx.get_historical_market_data(\"BTC/USD\", interval=\"1d\", start_time=\"1000 days ago\")"
   ]
  },
  {
   "cell_type": "code",
   "execution_count": 4,
   "id": "massive-friendship",
   "metadata": {},
   "outputs": [],
   "source": [
    "df = df.reset_index()"
   ]
  },
  {
   "cell_type": "code",
   "execution_count": 5,
   "id": "urban-delight",
   "metadata": {},
   "outputs": [],
   "source": [
    "green_days = []\n",
    "for index, row in df.iterrows():\n",
    "    if row[\"close\"] > row[\"open\"]:\n",
    "        green_days.append(index)"
   ]
  },
  {
   "cell_type": "code",
   "execution_count": 25,
   "id": "minute-cement",
   "metadata": {},
   "outputs": [
    {
     "name": "stdout",
     "output_type": "stream",
     "text": [
      "8 green days\n",
      "time      2020-12-19 00:00:00+00:00\n",
      "open                        23136.0\n",
      "high                        24193.5\n",
      "low                         22772.0\n",
      "close                       23851.0\n",
      "volume                 51288533.836\n",
      "Name: 517, dtype: object\n",
      "8 green days\n",
      "time      2021-07-28 00:00:00+00:00\n",
      "open                        39488.0\n",
      "high                        40937.0\n",
      "low                         38919.0\n",
      "close                       39946.0\n",
      "volume               472120928.3317\n",
      "Name: 738, dtype: object\n",
      "7 green days\n",
      "time      2019-08-05 00:00:00+00:00\n",
      "open                        10980.0\n",
      "high                        11959.0\n",
      "low                         10980.0\n",
      "close                       11808.0\n",
      "volume                3449605.22165\n",
      "Name: 15, dtype: object\n",
      "7 green days\n",
      "time      2020-04-27 00:00:00+00:00\n",
      "open                         7705.0\n",
      "high                         7810.0\n",
      "low                          7635.0\n",
      "close                        7794.0\n",
      "volume                14670212.0386\n",
      "Name: 281, dtype: object\n",
      "7 green days\n",
      "time      2021-01-03 00:00:00+00:00\n",
      "open                        32201.5\n",
      "high                        34809.5\n",
      "low                         31978.0\n",
      "close                       33045.5\n",
      "volume              147019465.64805\n",
      "Name: 532, dtype: object\n",
      "7 green days\n",
      "time      2021-03-11 00:00:00+00:00\n",
      "open                        55854.0\n",
      "high                        58174.0\n",
      "low                         54269.0\n",
      "close                       57821.0\n",
      "volume               391438462.3325\n",
      "Name: 599, dtype: object\n"
     ]
    }
   ],
   "source": [
    "for element in sorted([list(group) for group in mit.consecutive_groups(green_days)], key=lambda x: 1/len(x))[:6]:\n",
    "    print(f\"{len(element)} green days\")\n",
    "    print(df.iloc[element[-1]])"
   ]
  }
 ],
 "metadata": {
  "kernelspec": {
   "display_name": "pymparoo",
   "language": "python",
   "name": "pymparoo"
  },
  "language_info": {
   "codemirror_mode": {
    "name": "ipython",
    "version": 3
   },
   "file_extension": ".py",
   "mimetype": "text/x-python",
   "name": "python",
   "nbconvert_exporter": "python",
   "pygments_lexer": "ipython3",
   "version": "3.8.8"
  }
 },
 "nbformat": 4,
 "nbformat_minor": 5
}
