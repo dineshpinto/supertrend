{
 "cells": [
  {
   "cell_type": "code",
   "execution_count": 1,
   "id": "a93c58ba",
   "metadata": {},
   "outputs": [],
   "source": [
    "from ftx_client import FtxClient\n",
    "import matplotlib.pyplot as plt\n",
    "import matplotlib.dates as mdates\n",
    "from supertrend import supertrend_analysis, get_supertrend_signals, calculate_ema\n",
    "from config import API_KEY, API_SECRET\n",
    "from pprint import pprint\n",
    "import numpy as np\n",
    "import time\n",
    "from telegram_api_manager import TelegramAPIManager\n",
    "import json\n",
    "import os\n",
    "import sys\n",
    "import logging\n",
    "\n",
    "plt.ioff()\n",
    "FIGURE_PATH = \"figures\""
   ]
  },
  {
   "cell_type": "code",
   "execution_count": 2,
   "id": "726a0375",
   "metadata": {},
   "outputs": [],
   "source": [
    "logging.basicConfig(format='%(asctime)s - %(name)s - %(levelname)s - %(message)s',\n",
    "                    stream=sys.stdout, level=logging.INFO)\n",
    "logger = logging.getLogger(__name__)"
   ]
  },
  {
   "cell_type": "code",
   "execution_count": 3,
   "id": "7a2ef722",
   "metadata": {},
   "outputs": [],
   "source": [
    "perpetuals = [\n",
    "    \"ETH-PERP\", \n",
    "    \"MATIC-PERP\", \n",
    "    \"SOL-PERP\", \n",
    "    \"DOGE-PERP\", \n",
    "    \"ADA-PERP\", \n",
    "    \"RUNE-PERP\", \n",
    "    \"CHZ-PERP\", \n",
    "    \"SUSHI-PERP\", \n",
    "]"
   ]
  },
  {
   "cell_type": "code",
   "execution_count": null,
   "id": "ef5be1f4",
   "metadata": {},
   "outputs": [
    {
     "name": "stdout",
     "output_type": "stream",
     "text": [
      "2021-07-12 01:46:15,555 - telegram_api_manager - INFO - cryptobot (@pymparoobot) is now running using Telegram personal chat id\n",
      "2021-07-12 01:46:31,468 - __main__ - INFO - Sleeping for 60 mins\n"
     ]
    }
   ],
   "source": [
    "trades = {}\n",
    "for perp in perpetuals:\n",
    "    trades[perp] = []\n",
    "\n",
    "tapi = TelegramAPIManager(group=False)\n",
    "\n",
    "while(True):\n",
    "    # Open new FTX Session\n",
    "    ftx = FtxClient(api_key=API_KEY, api_secret=API_SECRET)\n",
    "\n",
    "    for perp in perpetuals:\n",
    "        df = ftx.get_historical_market_data(perp, interval=\"1h\", start_time=\"10 days ago\")\n",
    "\n",
    "        # Perform supertrend analysis\n",
    "        st, upt, dt = supertrend_analysis(df.high, df.low, df.close, lookback=10, multiplier=3)\n",
    "        long_trigger, short_trigger, st_signal = get_supertrend_signals(df.close, st)\n",
    "\n",
    "        # Check 200 SMA for confirmation\n",
    "        # sma200 = calculate_sma_200(df)\n",
    "        ema200 = calculate_ema(df, time_period=200)\n",
    "        \n",
    "        # Set precision for orders\n",
    "        precision = len(str(df.close[0]).split(\".\")[1])\n",
    "\n",
    "        # Plot and save results\n",
    "        fig, ax = plt.subplots()\n",
    "        ax.plot(df.index, df.close, \".-\", color=\"tab:blue\")\n",
    "        ax.plot(df.index, ema200, label=\"200 EMA\", color=\"tab:orange\")\n",
    "        ax.plot(df.index[1:], st, color=\"tab:gray\")\n",
    "        \n",
    "        ax.plot(df.index[1:], long_trigger, marker='^', color='tab:green', markersize=8, linewidth=0, label='Short')\n",
    "        ax.plot(df.index[1:], short_trigger, marker='v', color='tab:red', markersize=8, linewidth=0, label='Long')\n",
    "        ax.xaxis.set_major_formatter(mdates.DateFormatter('%b-%d %H:%m'))\n",
    "        fig.autofmt_xdate()\n",
    "        ax.set_title(perp)\n",
    "        plt.close(fig)\n",
    "        fig.savefig(os.path.join(FIGURE_PATH, f\"{perp}.jpg\"), dpi=300)\n",
    "\n",
    "        # Check last element of signal array\n",
    "        last_signal = st_signal[-1] # TODO: Change to -2 is problems occur due to incomplete candle\n",
    "        idx = -1\n",
    "        # for idx, last_signal in enumerate(st_signal):\n",
    "        if last_signal != 0:\n",
    "            if last_signal == 1:\n",
    "                new_position = {\"perp\": perp, \"position\": \"long\", \"entry\": df.close[idx], \"stop_loss\": round(st[idx], precision), \"10pctprofit\": round(df.close[idx] + df.close[idx]*0.1, precision)}\n",
    "            elif last_signal == -1:\n",
    "                new_position = {\"perp\": perp, \"position\": \"short\", \"entry\": df.close[idx], \"stop_loss\": round(st[idx], precision), \"10pctprofit\": round(df.close[idx] - df.close[idx]*0.1, precision)}\n",
    "                \n",
    "            if df.close[idx] < ema200[idx]:\n",
    "                new_position[\"ema200\"] = \"under\"\n",
    "            else:\n",
    "                new_position[\"ema200\"] = \"over\"\n",
    "\n",
    "            logger.info(new_position)\n",
    "            trades[perp].append(new_position)\n",
    "            tapi.send_photo(os.path.join(FIGURE_PATH, f\"{perp}.jpg\"), caption=json.dumps(new_position, indent=2, default=str))\n",
    "        else:\n",
    "            pass\n",
    "    \n",
    "    logger.info(\"Sleeping for 60 mins\")\n",
    "    time.sleep(60 * 60)"
   ]
  },
  {
   "cell_type": "code",
   "execution_count": null,
   "id": "2f6cfaa1",
   "metadata": {},
   "outputs": [],
   "source": [
    "def calculate_pnl(perpetuals, trades, leverage=1):\n",
    "    pnls = []\n",
    "    for perp in perpetuals:\n",
    "        if len(trades[perp]) >= 2:\n",
    "            for idx in range(len(trades[perp])):\n",
    "                if idx + 1 < len(trades[perp]):\n",
    "                    if trades[perp][idx][\"position\"] == \"short\":\n",
    "                        pnl = (trades[perp][idx][\"entry\"] - trades[perp][idx+1][\"entry\"]) / trades[perp][idx+1][\"entry\"] * 100 \n",
    "                    elif trades[perp][idx][\"position\"] == \"long\":\n",
    "                        pnl = (trades[perp][idx+1][\"entry\"] - trades[perp][idx][\"entry\"]) / trades[perp][idx][\"entry\"] * 100\n",
    "                    pnl *= leverage\n",
    "                    print(f\"{perp} {round(pnl, 1)}%\")\n",
    "                    pnls.append(pnl)\n",
    "\n",
    "    print(f\"Average pnl = {sum(pnls) / len(pnls)}\")"
   ]
  },
  {
   "cell_type": "code",
   "execution_count": null,
   "id": "38f24c7a",
   "metadata": {},
   "outputs": [],
   "source": [
    "calculate_pnl(perpetuals, trades, 10)"
   ]
  },
  {
   "cell_type": "code",
   "execution_count": null,
   "id": "dab5af69",
   "metadata": {},
   "outputs": [],
   "source": [
    "print(json.dumps(new_position, indent=2, default=str))"
   ]
  }
 ],
 "metadata": {
  "kernelspec": {
   "display_name": "swingaroo",
   "language": "python",
   "name": "swingaroo"
  },
  "language_info": {
   "codemirror_mode": {
    "name": "ipython",
    "version": 3
   },
   "file_extension": ".py",
   "mimetype": "text/x-python",
   "name": "python",
   "nbconvert_exporter": "python",
   "pygments_lexer": "ipython3",
   "version": "3.8.8"
  }
 },
 "nbformat": 4,
 "nbformat_minor": 5
}
