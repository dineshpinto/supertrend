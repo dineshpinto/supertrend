{
 "cells": [
  {
   "cell_type": "code",
   "execution_count": 1,
   "id": "b72de5cb",
   "metadata": {},
   "outputs": [],
   "source": [
    "import json\n",
    "import os\n",
    "import itertools\n",
    "from typing import Tuple\n",
    "\n",
    "import pandas as pd\n",
    "import numpy as np\n",
    "import talib as ta\n",
    "from tqdm import tqdm\n",
    "\n",
    "from ftx_client import FtxClient\n",
    "import supertrend as spt\n",
    "import backtesting as bt\n",
    "from config import API_KEY, API_SECRET"
   ]
  },
  {
   "cell_type": "code",
   "execution_count": 2,
   "id": "e08e7931",
   "metadata": {},
   "outputs": [],
   "source": [
    "with open(\"settings.json\") as jsonfile:\n",
    "    settings = json.load(jsonfile)\n",
    "    \n",
    "BACKTEST_FOLDER = settings[\"filepaths\"][\"backtest_folder\"]\n",
    "OPTIMIZEDML_FILEPATH = os.path.join(BACKTEST_FOLDER, settings[\"filepaths\"][\"optimized_ml_file\"])\n",
    "ANALYSIS_FILEPATH = os.path.join(BACKTEST_FOLDER, settings[\"filepaths\"][\"analysis_file\"])"
   ]
  },
  {
   "cell_type": "code",
   "execution_count": 3,
   "id": "4bd610a5",
   "metadata": {},
   "outputs": [],
   "source": [
    "ftx = FtxClient(api_key=API_KEY, api_secret=API_SECRET)"
   ]
  },
  {
   "cell_type": "code",
   "execution_count": 4,
   "id": "bec6c73e",
   "metadata": {},
   "outputs": [],
   "source": [
    "markets = []\n",
    "for future in ftx.list_futures():\n",
    "    if future[\"type\"] == \"perpetual\":\n",
    "        if (future[\"volumeUsd24h\"] > settings[\"markets\"][\"min_volume_usd_24h\"] and \n",
    "                future[\"name\"] not in settings[\"markets\"][\"blacklist\"]):\n",
    "            markets.append(future[\"name\"])"
   ]
  },
  {
   "cell_type": "code",
   "execution_count": 5,
   "id": "df5a8a38",
   "metadata": {},
   "outputs": [],
   "source": [
    "optimzed_ml = pd.read_csv(OPTIMIZEDML_FILEPATH)"
   ]
  },
  {
   "cell_type": "code",
   "execution_count": null,
   "id": "5b4a57e8",
   "metadata": {},
   "outputs": [
    {
     "name": "stderr",
     "output_type": "stream",
     "text": [
      "XRP-PERP:  97%|█████████▋| 31/32 [01:36<00:03,  3.05s/it]  "
     ]
    }
   ],
   "source": [
    "analysis_df = pd.DataFrame(columns=[\"Name\", \"AvgReturns\", \"StdDev\", \"AvgDrawdown\", \"RetDevRatio\", \"MinReturns\", \"MaxReturns\",\n",
    "             \"AvgNegReturns\", \"AvgPosReturns\", \"PosNegRetRatio\", \"MedReturns\", \"MedNegReturns\",\n",
    "             \"MedPosReturns\", \"MedPosNegRetRatio\", \"TheDfactor\"])\n",
    "\n",
    "pbar = tqdm(markets)\n",
    "for market in pbar:\n",
    "    pbar.set_description(market)\n",
    "    df = ftx.get_historical_market_data(market, interval=settings[\"analysis\"][\"interval\"], start_time=settings[\"analysis\"][\"start_time\"])\n",
    "    \n",
    "    if len(df) < settings[\"analysis\"][\"min_data_length\"]:\n",
    "        continue\n",
    "        \n",
    "    multiplier = optimzed_ml.loc[optimzed_ml['Name'] == market][\"Multiplier\"].values[0]\n",
    "    lookback = optimzed_ml.loc[optimzed_ml['Name'] == market][\"Lookback\"].values[0]\n",
    "    \n",
    "    profits = bt.backtest_dataframe(df, look_back=lookback, multiplier=multiplier)\n",
    "    profits[\"Name\"] = market\n",
    "    analysis_df = analysis_df.append(profits, ignore_index=True)"
   ]
  },
  {
   "cell_type": "code",
   "execution_count": null,
   "id": "cfb9fd52",
   "metadata": {},
   "outputs": [],
   "source": [
    "analysis_df"
   ]
  },
  {
   "cell_type": "code",
   "execution_count": null,
   "id": "80d00f67",
   "metadata": {},
   "outputs": [],
   "source": [
    "#analysis_df = analysis_df.round(2)\n",
    "#analysis_df.to_csv(ANALYSIS_FILEPATH, index=False)"
   ]
  },
  {
   "cell_type": "code",
   "execution_count": null,
   "id": "4555da25",
   "metadata": {},
   "outputs": [],
   "source": [
    "#pd.read_csv(ANALYSIS_FILEPATH).sort_values(\"TheDfactor\", ascending=False) "
   ]
  }
 ],
 "metadata": {
  "kernelspec": {
   "display_name": "swingaroo",
   "language": "python",
   "name": "swingaroo"
  },
  "language_info": {
   "codemirror_mode": {
    "name": "ipython",
    "version": 3
   },
   "file_extension": ".py",
   "mimetype": "text/x-python",
   "name": "python",
   "nbconvert_exporter": "python",
   "pygments_lexer": "ipython3",
   "version": "3.8.8"
  }
 },
 "nbformat": 4,
 "nbformat_minor": 5
}
